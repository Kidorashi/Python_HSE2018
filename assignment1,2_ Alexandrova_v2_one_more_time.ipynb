{
 "cells": [
  {
   "cell_type": "code",
   "execution_count": 30,
   "metadata": {
    "collapsed": true
   },
   "outputs": [],
   "source": [
    "import numpy as np\n",
    "from tqdm import tqdm_notebook as tqdm\n",
    "import random\n",
    "import string\n",
    "from bitarray import bitarray\n",
    "\n",
    "from sklearn.datasets import load_breast_cancer\n",
    "from sklearn.linear_model import LogisticRegression\n",
    "from sklearn.model_selection import train_test_split\n",
    "from sklearn.preprocessing import StandardScaler\n",
    "\n",
    "import matplotlib.pyplot as plt\n",
    "%matplotlib inline\n"
   ]
  },
  {
   "cell_type": "markdown",
   "metadata": {},
   "source": [
    "Задание 2.\n",
    "Используя определение, оценить сложность по радемахеру для логистической регресии на breast cancer dataset из scikit-learn (бинарная классификация). Подробнее в материалах лекции и на вики.\n",
    "Построить график зависимости сложности по радемахеру от коэф L2 регуляризации для alpha=np.logspace(-2,2,5). \n",
    "Для каждой точки выполнить 100 экспериментов, на графике отобразить стандартное отклонение оценки в каждой точке.\n",
    "Не забудьте  предварительно применить к признакам standard scaling."
   ]
  },
  {
   "cell_type": "code",
   "execution_count": 106,
   "metadata": {
    "collapsed": true
   },
   "outputs": [],
   "source": [
    "def get_logreg(X_train, y_train, alpha):\n",
    "    clf = LogisticRegression(C=1/alpha, penalty='l2')\n",
    "    clf.fit(X_train, y_train)\n",
    "    return (clf.decision_function(X_train))"
   ]
  },
  {
   "cell_type": "code",
   "execution_count": 83,
   "metadata": {
    "collapsed": true
   },
   "outputs": [],
   "source": [
    "def get_data(data):\n",
    "    seed = random.randint(1, 1000)\n",
    "    X = data.data\n",
    "    y = data.target\n",
    "    stan = StandardScaler()\n",
    "    X = stan.fit_transform(X)\n",
    "    X_train, X_test, y_train, y_test = train_test_split(X, y, random_state = random.randint(1, 1000))\n",
    "    \n",
    "    return (X_train, X_test, y_train, y_test)"
   ]
  },
  {
   "cell_type": "code",
   "execution_count": 103,
   "metadata": {
    "collapsed": true
   },
   "outputs": [],
   "source": [
    "def experiment (X_train, y_train, alpha):\n",
    "    sigma = np.array([-1] * int(len(y_train)/2) + [1] * int(len(y_train) / 2))\n",
    "    np.random.shuffle(sigma)\n",
    "    h = get_logreg(X_train, y_train, alpha)\n",
    "    return (np.average(sigma * h))"
   ]
  },
  {
   "cell_type": "code",
   "execution_count": 143,
   "metadata": {
    "collapsed": true
   },
   "outputs": [],
   "source": [
    "data = load_breast_cancer()"
   ]
  },
  {
   "cell_type": "code",
   "execution_count": 144,
   "metadata": {
    "scrolled": true
   },
   "outputs": [
    {
     "data": {
      "application/vnd.jupyter.widget-view+json": {
       "model_id": "dcb469eedbbd429e8d6bfd1391428b2c",
       "version_major": 2,
       "version_minor": 0
      },
      "text/plain": [
       "A Jupyter Widget"
      ]
     },
     "metadata": {},
     "output_type": "display_data"
    },
    {
     "name": "stdout",
     "output_type": "stream",
     "text": [
      "\n"
     ]
    },
    {
     "data": {
      "application/vnd.jupyter.widget-view+json": {
       "model_id": "2e8d788af8ca4dbf967c2612b11f7873",
       "version_major": 2,
       "version_minor": 0
      },
      "text/plain": [
       "A Jupyter Widget"
      ]
     },
     "metadata": {},
     "output_type": "display_data"
    },
    {
     "name": "stdout",
     "output_type": "stream",
     "text": [
      "\n"
     ]
    },
    {
     "data": {
      "application/vnd.jupyter.widget-view+json": {
       "model_id": "24351dc43aa846f0b763d9309cd8a945",
       "version_major": 2,
       "version_minor": 0
      },
      "text/plain": [
       "A Jupyter Widget"
      ]
     },
     "metadata": {},
     "output_type": "display_data"
    },
    {
     "name": "stdout",
     "output_type": "stream",
     "text": [
      "\n"
     ]
    },
    {
     "data": {
      "application/vnd.jupyter.widget-view+json": {
       "model_id": "1a8427e1dd934a42bfbb7d677b853eaf",
       "version_major": 2,
       "version_minor": 0
      },
      "text/plain": [
       "A Jupyter Widget"
      ]
     },
     "metadata": {},
     "output_type": "display_data"
    },
    {
     "name": "stdout",
     "output_type": "stream",
     "text": [
      "\n"
     ]
    },
    {
     "data": {
      "application/vnd.jupyter.widget-view+json": {
       "model_id": "e29a86a7ba6d49eda286e4462308248e",
       "version_major": 2,
       "version_minor": 0
      },
      "text/plain": [
       "A Jupyter Widget"
      ]
     },
     "metadata": {},
     "output_type": "display_data"
    },
    {
     "name": "stdout",
     "output_type": "stream",
     "text": [
      "\n"
     ]
    }
   ],
   "source": [
    "m_rdm = []\n",
    "std_rdm = []\n",
    "for alpha in np.logspace(-2, 2, 5):\n",
    "    asd = []\n",
    "    for n in tqdm(range(100)):\n",
    "        X_train, X_test, y_train, y_test = get_data(data)\n",
    "        asd.append(experiment(X_train, y_train, alpha))\n",
    "    m_rdm.append(np.sum(asd)/100)\n",
    "    std_rdm.append(np.std(asd))"
   ]
  },
  {
   "cell_type": "code",
   "execution_count": 145,
   "metadata": {},
   "outputs": [
    {
     "data": {
      "text/plain": [
       "[-0.13799649605281133,\n",
       " -0.0838812930645511,\n",
       " 0.022943273660505657,\n",
       " 0.026187907963375317,\n",
       " 0.0027589217310665663]"
      ]
     },
     "execution_count": 145,
     "metadata": {},
     "output_type": "execute_result"
    }
   ],
   "source": [
    "m_rdm"
   ]
  },
  {
   "cell_type": "code",
   "execution_count": 146,
   "metadata": {},
   "outputs": [
    {
     "data": {
      "text/plain": [
       "[1.5226468895530496,\n",
       " 0.8598060191649854,\n",
       " 0.44426898493616207,\n",
       " 0.2862730276072664,\n",
       " 0.12312391438272105]"
      ]
     },
     "execution_count": 146,
     "metadata": {},
     "output_type": "execute_result"
    }
   ],
   "source": [
    "std_rdm"
   ]
  },
  {
   "cell_type": "code",
   "execution_count": 153,
   "metadata": {},
   "outputs": [
    {
     "data": {
      "image/png": "[encoded data removed]",
      "text/plain": [
       "<matplotlib.figure.Figure at 0x212a5868b00>"
      ]
     },
     "metadata": {},
     "output_type": "display_data"
    }
   ],
   "source": [
    "plt.errorbar(alpha, m_rdm, std_rdm, fmt='-o')\n",
    "plt.title('Зависимость сложности от коэффицента L2 регуляризации.')\n",
    "plt.xlabel('L2')\n",
    "plt.ylabel('Сложность по Радемахеру');"
   ]
  },
  {
   "cell_type": "markdown",
   "metadata": {},
   "source": [
    "Чем больше коэффицент alpha, тем меньше радемахеровcкая сложность. Стандартное отклонение так же падает."
   ]
  },
  {
   "cell_type": "markdown",
   "metadata": {},
   "source": [
    "Задание 1.\n",
    "Показать на эксперименте, что верхняя оценка на вероятность коллизии композиционного хеша для строк выполняется O(1/m + L/p). Подробнее в материалах лекции.\n",
    "Построить графики зависимости FPR от длинны строк L и простого модуля p.\n",
    "Эксперименты провести для L = np.linspace(10, 100, 11) и 10 простых чисел p из интервала (100, 1000)\n",
    "Для каждой точки выполнить 10 экспериментов, на графике отобразить стандартное отклонение оценки в каждой точке"
   ]
  },
  {
   "cell_type": "code",
   "execution_count": 2,
   "metadata": {
    "collapsed": true
   },
   "outputs": [],
   "source": [
    "def is_prime():\n",
    "    primes = []\n",
    "    for a in range(100, 1000):\n",
    "        if all(a % i for i in range(2, a)) is True and a not in primes:\n",
    "            primes.append(a)\n",
    "    return(random.sample(primes, 10))"
   ]
  },
  {
   "cell_type": "code",
   "execution_count": 3,
   "metadata": {
    "collapsed": true
   },
   "outputs": [],
   "source": [
    "def rand_lines(l):\n",
    "    lines = []\n",
    "    for i in range(1000):\n",
    "        line = ''.join(random.choice(string.ascii_lowercase) for _ in range(l))\n",
    "        lines.append(line)\n",
    "    return (lines)"
   ]
  },
  {
   "cell_type": "code",
   "execution_count": 4,
   "metadata": {
    "collapsed": true
   },
   "outputs": [],
   "source": [
    "def hash_int(x, p, a=456, b=7):\n",
    "    return (a*x + b) % p"
   ]
  },
  {
   "cell_type": "code",
   "execution_count": 5,
   "metadata": {
    "collapsed": true
   },
   "outputs": [],
   "source": [
    "def poly_hash(line, p):\n",
    "    h = 0\n",
    "    x = 45\n",
    "    for i in range(0, len(line)):\n",
    "        h = (h * x + ord(line[i]) + p) % p\n",
    "    return hash_int(h, p)"
   ]
  },
  {
   "cell_type": "code",
   "execution_count": 6,
   "metadata": {
    "collapsed": true
   },
   "outputs": [],
   "source": [
    "L = np.linspace(10, 100, 11)\n",
    "primes = is_prime()\n",
    "primes.sort()"
   ]
  },
  {
   "cell_type": "code",
   "execution_count": 7,
   "metadata": {},
   "outputs": [
    {
     "data": {
      "text/plain": [
       "array([ 10.,  19.,  28.,  37.,  46.,  55.,  64.,  73.,  82.,  91., 100.])"
      ]
     },
     "execution_count": 7,
     "metadata": {},
     "output_type": "execute_result"
    }
   ],
   "source": [
    "L"
   ]
  },
  {
   "cell_type": "code",
   "execution_count": 8,
   "metadata": {},
   "outputs": [
    {
     "data": {
      "text/plain": [
       "[271, 293, 311, 449, 617, 797, 809, 839, 857, 919]"
      ]
     },
     "execution_count": 8,
     "metadata": {},
     "output_type": "execute_result"
    }
   ],
   "source": [
    "primes"
   ]
  },
  {
   "cell_type": "markdown",
   "metadata": {},
   "source": [
    "Фиксируем p. Смотрим зависимость от длины строк."
   ]
  },
  {
   "cell_type": "code",
   "execution_count": 9,
   "metadata": {
    "collapsed": true
   },
   "outputs": [],
   "source": [
    "mean_L = []\n",
    "std_L = []\n",
    "p = random.choice(primes)\n",
    "fpr_L = []\n",
    "for l in L:\n",
    "    add = []\n",
    "    for i in range(10): #для mean и std. Для простого замера записываем только последний результат.\n",
    "        f = 0\n",
    "        lines = rand_lines(int(l))\n",
    "        bitarr = bitarray('0' * p)\n",
    "\n",
    "        for line in lines:\n",
    "            has = poly_hash(line, p)\n",
    "            if bitarr[has] == 0: \n",
    "                bitarr[has] = 1\n",
    "            elif bitarr[has] == 1:\n",
    "                f += 1\n",
    "        add.append(f * 2 / (1000 * (1000 - 1)))\n",
    "    mean_L.append(np.mean(add))\n",
    "    std_L.append(np.std(add))        \n",
    "    fpr_L.append(f * 2 / (1000 * (1000 - 1)))"
   ]
  },
  {
   "cell_type": "code",
   "execution_count": 11,
   "metadata": {},
   "outputs": [
    {
     "data": {
      "text/plain": [
       "[0.0008608608608608609,\n",
       " 0.0008408408408408409,\n",
       " 0.0008708708708708709,\n",
       " 0.0008428428428428428,\n",
       " 0.0008488488488488489,\n",
       " 0.0008468468468468468,\n",
       " 0.0008888888888888889,\n",
       " 0.0008648648648648649,\n",
       " 0.0008408408408408409,\n",
       " 0.0008748748748748749,\n",
       " 0.0008588588588588588]"
      ]
     },
     "execution_count": 11,
     "metadata": {},
     "output_type": "execute_result"
    }
   ],
   "source": [
    "fpr_L"
   ]
  },
  {
   "cell_type": "code",
   "execution_count": 12,
   "metadata": {},
   "outputs": [
    {
     "data": {
      "text/plain": [
       "[0.0008496496496496496,\n",
       " 0.0008476476476476476,\n",
       " 0.000855055055055055,\n",
       " 0.0008514514514514516,\n",
       " 0.0008408408408408407,\n",
       " 0.0008520520520520521,\n",
       " 0.00085985985985986,\n",
       " 0.0008638638638638639,\n",
       " 0.0008552552552552552,\n",
       " 0.0008558558558558558,\n",
       " 0.0008596596596596596]"
      ]
     },
     "execution_count": 12,
     "metadata": {},
     "output_type": "execute_result"
    }
   ],
   "source": [
    "mean_L"
   ]
  },
  {
   "cell_type": "code",
   "execution_count": 13,
   "metadata": {},
   "outputs": [
    {
     "data": {
      "image/png": "[encoded data removed]",
      "text/plain": [
       "<matplotlib.figure.Figure at 0x212a3d77470>"
      ]
     },
     "metadata": {},
     "output_type": "display_data"
    }
   ],
   "source": [
    "plt.title('Зависимость FPR от длины строки. p = ' + str(p))\n",
    "plt.xlabel('L')\n",
    "plt.ylabel('FPR')\n",
    "plt.plot(L, fpr_L);"
   ]
  },
  {
   "cell_type": "code",
   "execution_count": 14,
   "metadata": {},
   "outputs": [
    {
     "data": {
      "image/png": "[encoded data removed]",
      "text/plain": [
       "<matplotlib.figure.Figure at 0x2129f272048>"
      ]
     },
     "metadata": {},
     "output_type": "display_data"
    }
   ],
   "source": [
    "plt.errorbar(L, mean_L, std_L, fmt='-o')\n",
    "plt.title('Среднее и стандартное отклонение FPR при p = ' + str(p))\n",
    "plt.xlabel('L')\n",
    "plt.ylabel('mean FPR');"
   ]
  },
  {
   "cell_type": "markdown",
   "metadata": {},
   "source": [
    "Фиксируем L. Смотрим зависимость от длины строк."
   ]
  },
  {
   "cell_type": "code",
   "execution_count": 15,
   "metadata": {
    "collapsed": true
   },
   "outputs": [],
   "source": [
    "mean_p = []\n",
    "std_p = []\n",
    "l = random.choice(L)\n",
    "fpr_p = []\n",
    "for p in primes:\n",
    "    add = []\n",
    "    for i in range(10): #для mean и std. Для простого замера записываем только последний результат.\n",
    "        f = 0\n",
    "        lines = rand_lines(int(l))\n",
    "        bitarr = bitarray('0' * p)\n",
    "\n",
    "        for line in lines:\n",
    "            has = poly_hash(line, p)\n",
    "            if bitarr[has] == 0: \n",
    "                bitarr[has] = 1\n",
    "            elif bitarr[has] == 1:\n",
    "                f += 1\n",
    "        add.append(f * 2 / (1000 * (1000 - 1)))\n",
    "    mean_p.append(np.mean(add))\n",
    "    std_p.append(np.std(add))        \n",
    "    fpr_p.append(f * 2 / (1000 * (1000 - 1)))"
   ]
  },
  {
   "cell_type": "code",
   "execution_count": 16,
   "metadata": {},
   "outputs": [
    {
     "data": {
      "text/plain": [
       "[0.0014694694694694695,\n",
       " 0.0014494494494494495,\n",
       " 0.0013973973973973974,\n",
       " 0.0011831831831831832,\n",
       " 0.001015015015015015,\n",
       " 0.0008708708708708709,\n",
       " 0.0008748748748748749,\n",
       " 0.0008428428428428428,\n",
       " 0.0008068068068068068,\n",
       " 0.0007907907907907908]"
      ]
     },
     "execution_count": 16,
     "metadata": {},
     "output_type": "execute_result"
    }
   ],
   "source": [
    "fpr_p"
   ]
  },
  {
   "cell_type": "code",
   "execution_count": 17,
   "metadata": {},
   "outputs": [
    {
     "data": {
      "text/plain": [
       "[0.001473073073073073,\n",
       " 0.0014398398398398399,\n",
       " 0.0014046046046046047,\n",
       " 0.0011977977977977979,\n",
       " 0.0010114114114114113,\n",
       " 0.0008570570570570569,\n",
       " 0.0008582582582582581,\n",
       " 0.0008348348348348348,\n",
       " 0.0008156156156156157,\n",
       " 0.0007811811811811811]"
      ]
     },
     "execution_count": 17,
     "metadata": {},
     "output_type": "execute_result"
    }
   ],
   "source": [
    "mean_p"
   ]
  },
  {
   "cell_type": "code",
   "execution_count": 19,
   "metadata": {},
   "outputs": [
    {
     "data": {
      "image/png": "[encoded data removed]",
      "text/plain": [
       "<matplotlib.figure.Figure at 0x212a5363828>"
      ]
     },
     "metadata": {},
     "output_type": "display_data"
    }
   ],
   "source": [
    "plt.title('Зависимость FPR от p. l = ' + str(int(l)))\n",
    "plt.xlabel('p')\n",
    "plt.ylabel('FPR')\n",
    "plt.plot(primes, fpr_p);"
   ]
  },
  {
   "cell_type": "code",
   "execution_count": 20,
   "metadata": {},
   "outputs": [
    {
     "data": {
      "image/png": "[encoded data removed]",
      "text/plain": [
       "<matplotlib.figure.Figure at 0x212a53e1828>"
      ]
     },
     "metadata": {},
     "output_type": "display_data"
    }
   ],
   "source": [
    "plt.errorbar(primes, mean_p, std_p, fmt='-o')\n",
    "plt.title('Среднее и стандартное отклонение FPR при l = ' + str(int(l)))\n",
    "plt.xlabel('p')\n",
    "plt.ylabel('mean FPR');"
   ]
  }
 ],
 "metadata": {
  "kernelspec": {
   "display_name": "Python 3",
   "language": "python",
   "name": "python3"
  },
  "language_info": {
   "codemirror_mode": {
    "name": "ipython",
    "version": 3
   },
   "file_extension": ".py",
   "mimetype": "text/x-python",
   "name": "python",
   "nbconvert_exporter": "python",
   "pygments_lexer": "ipython3",
   "version": "3.6.2"
  }
 },
 "nbformat": 4,
 "nbformat_minor": 2
}
